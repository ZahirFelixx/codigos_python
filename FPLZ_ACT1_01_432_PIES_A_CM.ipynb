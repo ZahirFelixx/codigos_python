{
  "nbformat": 4,
  "nbformat_minor": 0,
  "metadata": {
    "colab": {
      "provenance": []
    },
    "kernelspec": {
      "name": "python3",
      "display_name": "Python 3"
    },
    "language_info": {
      "name": "python"
    }
  },
  "cells": [
    {
      "cell_type": "markdown",
      "source": [
        "5.- Programa en Python que lea una medida en centímetros y desplegar la misma medida pero convertida en pies y pulgadas. Ejercicio 5\n",
        "\n"
      ],
      "metadata": {
        "id": "wNt_uZ1sEyLP"
      }
    },
    {
      "cell_type": "code",
      "execution_count": null,
      "metadata": {
        "colab": {
          "base_uri": "https://localhost:8080/"
        },
        "id": "Yqe7HPbu7Q64",
        "outputId": "7e767674-b611-4198-f19f-c8029524e05c"
      },
      "outputs": [
        {
          "output_type": "stream",
          "name": "stdout",
          "text": [
            "Ingrese una cantidad en cm, para combertirlos a pies y pulgadas: \n",
            "1\n",
            "La cantidad de cm a pies es :  0.03280839895013123\n",
            "La cantidad de cm a pies es :  0.39370078740157477\n"
          ]
        }
      ],
      "source": [
        "#Felix Peraza Luis Zahir 369453\n",
        "#19-08-2023\n",
        "#El codigo lee una cantidad en cm y hace la comvercion a pies y pulgadas\n",
        "#C.P.P\n",
        "print (\"Ingrese una cantidad en cm, para combertirlos a pies y pulgadas: \")\n",
        "cm = float (input())\n",
        "\n",
        "inc = cm / 2.54\n",
        "ft = cm / 30.48\n",
        "\n",
        "print (\"La cantidad de cm a pulgadas es : \", inc)\n",
        "print (\"La cantidad de cm a pies es : \", ft)"
      ]
    }
  ]
}