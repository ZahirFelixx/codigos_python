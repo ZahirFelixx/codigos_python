{
  "nbformat": 4,
  "nbformat_minor": 0,
  "metadata": {
    "colab": {
      "provenance": [],
      "authorship_tag": "ABX9TyOlxCqsMPP6Km9mp+Zo2iXt",
      "include_colab_link": true
    },
    "kernelspec": {
      "name": "python3",
      "display_name": "Python 3"
    },
    "language_info": {
      "name": "python"
    }
  },
  "cells": [
    {
      "cell_type": "markdown",
      "metadata": {
        "id": "view-in-github",
        "colab_type": "text"
      },
      "source": [
        "<a href=\"https://colab.research.google.com/github/ZahirFelixx/codigos_python/blob/main/FPLZ_ACT1_01_432_Grados_a_FK.ipynb\" target=\"_parent\"><img src=\"https://colab.research.google.com/assets/colab-badge.svg\" alt=\"Open In Colab\"/></a>"
      ]
    },
    {
      "cell_type": "code",
      "execution_count": null,
      "metadata": {
        "id": "kzYk99f6CJA9"
      },
      "outputs": [],
      "source": [
        "6.- Programa en Python que lea una temperatura en grados centígrados y desplegarla en Grados Fahrenheit y grados kelvin. Ejercicio 6\n"
      ]
    },
    {
      "cell_type": "code",
      "source": [
        "#Felix Peraza Luis Zahir 369453\n",
        "#19-08-2023\n",
        "#El codigo lee una temperatura en grados y hace la covercion a Fahrenheit y Kelvin\n",
        "#G.F.K\n",
        "\n",
        "print (\"Ingrese una temperatura en grados, para combertirla a Fahrenheit y Kelvin: \")\n",
        "\n",
        "grados = float (input())\n",
        "\n",
        "g_f = ((grados * 9) / 5) + 32\n",
        "g_k = grados + 273.15\n",
        "\n",
        "print (\"La temperatura en grados fahrrenheit: \", g_f)\n",
        "print (\"La temperatura en grados kelvin: \", g_k)\n"
      ],
      "metadata": {
        "colab": {
          "base_uri": "https://localhost:8080/"
        },
        "id": "vfFq9v_CCPIj",
        "outputId": "7e0957dc-98cb-4b03-8f65-56492822cc90"
      },
      "execution_count": null,
      "outputs": [
        {
          "output_type": "stream",
          "name": "stdout",
          "text": [
            "Ingrese una temperatura en grados, para combertirla a Fahrenheit y Kelvin: \n",
            "1\n",
            "La temperatura en grados fahrrenheit:  33.8\n",
            "La temperatura en grados kelvin:  274.15\n"
          ]
        }
      ]
    }
  ]
}