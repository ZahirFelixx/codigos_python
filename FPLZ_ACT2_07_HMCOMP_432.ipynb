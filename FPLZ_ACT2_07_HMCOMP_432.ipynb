{
  "nbformat": 4,
  "nbformat_minor": 0,
  "metadata": {
    "colab": {
      "provenance": [],
      "authorship_tag": "ABX9TyOuZ0/8zmqfrZ0DdCCAY9ym",
      "include_colab_link": true
    },
    "kernelspec": {
      "name": "python3",
      "display_name": "Python 3"
    },
    "language_info": {
      "name": "python"
    }
  },
  "cells": [
    {
      "cell_type": "markdown",
      "metadata": {
        "id": "view-in-github",
        "colab_type": "text"
      },
      "source": [
        "<a href=\"https://colab.research.google.com/github/ZahirFelixx/codigos_python/blob/main/FPLZ_ACT2_07_HMCOMP_432.ipynb\" target=\"_parent\"><img src=\"https://colab.research.google.com/assets/colab-badge.svg\" alt=\"Open In Colab\"/></a>"
      ]
    },
    {
      "cell_type": "markdown",
      "source": [
        "7.- Programa en Python que a través de opciones (1.- HOMBRE 2.- MUJER ) preguntar al usuario cual es su sexo y desplegar la leyenda “HOMBRE ”, “MUJER”\n",
        "\n"
      ],
      "metadata": {
        "id": "Gt7c7iIYVqiF"
      }
    },
    {
      "cell_type": "code",
      "source": [
        "#Felix Peraza Luis Zahie 369453\n",
        "#Fecha: 26-08-2023\n",
        "#programa que lee genero con condiciones compuestas\n",
        "#H_O_M_C\n",
        "\n",
        "print(\"¿Cual es tu generl?...Ingrese el numero de su genero\")\n",
        "genro = int(input(\"1-.Hombre 2-.Mujer\"))\n",
        "\n",
        "if genro == 1:\n",
        "    print(\"Eres hombre\")\n",
        "\n",
        "elif genro == 2:\n",
        "    print(\"Eres mujer \")\n"
      ],
      "metadata": {
        "colab": {
          "base_uri": "https://localhost:8080/"
        },
        "id": "Uq_t5fDGm_DL",
        "outputId": "dcae8425-4fde-4857-9d5a-1d8a1f899ec8"
      },
      "execution_count": null,
      "outputs": [
        {
          "output_type": "stream",
          "name": "stdout",
          "text": [
            "¿Cual es tu generl?...Ingrese el numero de su genero\n",
            "1-.Hombre 2-.Mujer2\n",
            "Eres mujer \n"
          ]
        }
      ]
    }
  ]
}