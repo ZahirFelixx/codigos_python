{
  "nbformat": 4,
  "nbformat_minor": 0,
  "metadata": {
    "colab": {
      "provenance": [],
      "authorship_tag": "ABX9TyMDUOszMsfZ7xObEYMLMTfb",
      "include_colab_link": true
    },
    "kernelspec": {
      "name": "python3",
      "display_name": "Python 3"
    },
    "language_info": {
      "name": "python"
    }
  },
  "cells": [
    {
      "cell_type": "markdown",
      "metadata": {
        "id": "view-in-github",
        "colab_type": "text"
      },
      "source": [
        "<a href=\"https://colab.research.google.com/github/ZahirFelixx/codigos_python/blob/main/FPLZ_ACT4_03_432_LLAMADA_TRY.ipynb\" target=\"_parent\"><img src=\"https://colab.research.google.com/assets/colab-badge.svg\" alt=\"Open In Colab\"/></a>"
      ]
    },
    {
      "cell_type": "code",
      "execution_count": null,
      "metadata": {
        "id": "Y3XlF4kAJDj5"
      },
      "outputs": [],
      "source": [
        "#Felix Peraza Luis Zahir 369453\n",
        "#09-09-23\n",
        "#Programa en Python que sirva para calcular el Total a pagar por consumo de agua, donde el dato de entrada son los M3 de agua consumidos, Tomar en cuenta que se cobra escalonada\n",
        "#llamada_try\n",
        "\n",
        "try:\n",
        "    min = float(input(\"Ingrese la cantidad de minutos: \"))\n",
        "    print(\"1-.Llamada Local\")\n",
        "    print(\"2-.Llamada Nacional\")\n",
        "    print(\"3-.Llamada Internacional\")\n",
        "    llamadatip = int(input(\"Ingresa el tipo de llamada: \"))\n",
        "\n",
        "    if llamadatip == 1:\n",
        "        precio = 3\n",
        "\n",
        "    if llamadatip == 2:\n",
        "        precio = float(7 + max(0, min - 3) * 2) #max() devuelve el elemento con el valor más alto, o el elemento con el valor más alto en un iterable\n",
        "\n",
        "    if llamadatip == 3:\n",
        "        precio = float(9 + max(0, min - 2) * 4)\n",
        "\n",
        "    subtotal = precio\n",
        "    iva = subtotal * 0.16\n",
        "    preico = subtotal + iva\n",
        "\n",
        "    print(\"El subtotal es: \", subtotal)\n",
        "    print(\"Considerando un iva del 16%\")\n",
        "    print(\"El total de su llamda es: \", precio)\n",
        "\n",
        "except:\n",
        "    print(\"Sucedio un error\")\n",
        "except ValueError:\n",
        "    print(\"Error: Solo se permiten numeros \")\n",
        "except SyntaxError:\n",
        "    print(\"Error: Hay un error de sintaxis en el codigo\")\n"
      ]
    }
  ]
}