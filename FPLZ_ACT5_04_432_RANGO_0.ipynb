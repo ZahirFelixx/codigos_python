{
  "nbformat": 4,
  "nbformat_minor": 0,
  "metadata": {
    "colab": {
      "provenance": [],
      "authorship_tag": "ABX9TyPdgr4CdAyVPC32mV4MBI7y",
      "include_colab_link": true
    },
    "kernelspec": {
      "name": "python3",
      "display_name": "Python 3"
    },
    "language_info": {
      "name": "python"
    }
  },
  "cells": [
    {
      "cell_type": "markdown",
      "metadata": {
        "id": "view-in-github",
        "colab_type": "text"
      },
      "source": [
        "<a href=\"https://colab.research.google.com/github/ZahirFelixx/codigos_python/blob/main/FPLZ_ACT5_04_432_RANGO_0.ipynb\" target=\"_parent\"><img src=\"https://colab.research.google.com/assets/colab-badge.svg\" alt=\"Open In Colab\"/></a>"
      ]
    },
    {
      "cell_type": "code",
      "execution_count": null,
      "metadata": {
        "colab": {
          "base_uri": "https://localhost:8080/"
        },
        "id": "Qm-maUO0o37o",
        "outputId": "7897c9e8-a39d-4111-bf63-2af3b55495b8"
      },
      "outputs": [
        {
          "output_type": "stream",
          "name": "stdout",
          "text": [
            "Ingrese un numero o ingrese 0 para terminar: 34\n",
            "La suma total de los numeros es 34\n",
            "La media de los numeros es 34.0\n",
            "Ingrese un numero o ingrese 0 para terminar: 34\n",
            "La suma total de los numeros es 68\n",
            "La media de los numeros es 34.0\n",
            "Ingrese un numero o ingrese 0 para terminar: 22\n",
            "La suma total de los numeros es 90\n",
            "La media de los numeros es 30.0\n",
            "Ingrese un numero o ingrese 0 para terminar: 12\n",
            "La suma total de los numeros es 102\n",
            "La media de los numeros es 25.5\n"
          ]
        }
      ],
      "source": [
        "#Felix Peraza Luis Zahir 369453\n",
        "#17-09-23\n",
        "#Programa en Python que lea n cantidad de números enteros dentro de un rango dado (> 0 )\n",
        "#num_0\n",
        "try:\n",
        "    suma = 0\n",
        "    total = 0\n",
        "\n",
        "    while True:\n",
        "        num = int(input(\"Ingrese un numero o ingrese 0 para terminar: \"))\n",
        "\n",
        "        if num == 0:\n",
        "            break\n",
        "        suma += num\n",
        "        total += 1\n",
        "        media = suma / total\n",
        "\n",
        "        print(f\"La suma total de los numeros es {suma}\")\n",
        "        print(f\"La media de los numeros es {media}\")\n",
        "\n",
        "except ValueError:\n",
        "    print(\"Error: Solo se permiten numeros\")\n"
      ]
    }
  ]
}