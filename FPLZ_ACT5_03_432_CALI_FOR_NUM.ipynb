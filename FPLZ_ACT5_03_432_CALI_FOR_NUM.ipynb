{
  "nbformat": 4,
  "nbformat_minor": 0,
  "metadata": {
    "colab": {
      "provenance": [],
      "authorship_tag": "ABX9TyOOvEQMc3LENFM0d0+ywYX3",
      "include_colab_link": true
    },
    "kernelspec": {
      "name": "python3",
      "display_name": "Python 3"
    },
    "language_info": {
      "name": "python"
    }
  },
  "cells": [
    {
      "cell_type": "markdown",
      "metadata": {
        "id": "view-in-github",
        "colab_type": "text"
      },
      "source": [
        "<a href=\"https://colab.research.google.com/github/ZahirFelixx/codigos_python/blob/main/FPLZ_ACT5_03_432_CALI_FOR_NUM.ipynb\" target=\"_parent\"><img src=\"https://colab.research.google.com/assets/colab-badge.svg\" alt=\"Open In Colab\"/></a>"
      ]
    },
    {
      "cell_type": "markdown",
      "source": [
        "Programa en Python que lea una calificación, las calificación deberá estar en el rango de 0 a 100, si hay un error de captura, mostrar mensaje de error. con la calificación correcta mostrar msg de aprobado reprobado. Ejercicio 3\n"
      ],
      "metadata": {
        "id": "MVhIO7K5mGdb"
      }
    },
    {
      "cell_type": "code",
      "execution_count": 14,
      "metadata": {
        "colab": {
          "base_uri": "https://localhost:8080/"
        },
        "id": "vcsjcDfYlypP",
        "outputId": "e58b93d7-1cc9-44a8-fb1c-28266bb299db"
      },
      "outputs": [
        {
          "output_type": "stream",
          "name": "stdout",
          "text": [
            "Ingrese tu calificacion del 0 al 100ds\n",
            "Error: Solo se permiten numeros, menso \n"
          ]
        }
      ],
      "source": [
        "#Felix Peraza Luis Zahir 369453\n",
        "#17-09-23\n",
        "#Programa en Python que lea una calificación, las calificación deberá estar en el rango de 0 a 100 y mostrar aprobado reprobado.\n",
        "#cali_for_num\n",
        "\n",
        "try:\n",
        "    cali = float(input(\"Ingrese tu calificacion del 0 al 100\"))\n",
        "    if cali in range(0,100):\n",
        "        if cali > 60:\n",
        "            print(\"Tu calificacion es aprobatoria\")\n",
        "\n",
        "        else:\n",
        "            print(\"Tu calificacion es reprobatoria\")\n",
        "\n",
        "\n",
        "except:\n",
        "    print(\"Error: Solo se permiten numeros, menso \")\n",
        "\n",
        "else:\n",
        "    print(\"Sigue estudiando :)\")\n"
      ]
    }
  ]
}