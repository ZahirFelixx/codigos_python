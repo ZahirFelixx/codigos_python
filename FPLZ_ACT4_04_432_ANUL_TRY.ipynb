{
  "nbformat": 4,
  "nbformat_minor": 0,
  "metadata": {
    "colab": {
      "provenance": [],
      "authorship_tag": "ABX9TyM97G8FpwVUYTctORyZfjsi",
      "include_colab_link": true
    },
    "kernelspec": {
      "name": "python3",
      "display_name": "Python 3"
    },
    "language_info": {
      "name": "python"
    }
  },
  "cells": [
    {
      "cell_type": "markdown",
      "metadata": {
        "id": "view-in-github",
        "colab_type": "text"
      },
      "source": [
        "<a href=\"https://colab.research.google.com/github/ZahirFelixx/codigos_python/blob/main/FPLZ_ACT4_04_432_ANUL_TRY.ipynb\" target=\"_parent\"><img src=\"https://colab.research.google.com/assets/colab-badge.svg\" alt=\"Open In Colab\"/></a>"
      ]
    },
    {
      "cell_type": "code",
      "execution_count": 4,
      "metadata": {
        "colab": {
          "base_uri": "https://localhost:8080/"
        },
        "id": "xIX2QwnRUXoO",
        "outputId": "4cd3e0b8-5605-4831-b3bf-efa76a7b5cf1"
      },
      "outputs": [
        {
          "output_type": "stream",
          "name": "stdout",
          "text": [
            "Ingrese la calificacion del primer examen: 90\n",
            "Ingrese la calificacion del segundo examen: 89\n",
            "Ingrese la calificacion del tercer examen: 90\n",
            "Ingrese la calificacion del cuarto examen: 89\n",
            "Ingrese la calificacion del quinto examen: 90\n",
            "El promedio final es:  89.6\n",
            "El promedio final es: 89.6\n",
            "La calificación más baja que se eliminó fue: 89.0\n",
            "Clasificación del promedio final: Muy Bueno\n"
          ]
        }
      ],
      "source": [
        "#Felix Peraza Luis Zahir 369453\n",
        "#09-09-2023\n",
        "#En la materia de Metodología de la programación se aplican 5 exámenes, calcular el promedio final de la materia donde la calificación menor de los exámenes se anula y el promedio se calcula en base a 4 exámenes.\n",
        "#Metodo_try\n",
        "\n",
        "try:\n",
        "    calf1 = float(input(\"Ingrese la calificacion del primer examen: \"))\n",
        "    calf2 = float(input(\"Ingrese la calificacion del segundo examen: \"))\n",
        "    calf3 = float(input(\"Ingrese la calificacion del tercer examen: \"))\n",
        "    calf4 = float(input(\"Ingrese la calificacion del cuarto examen: \"))\n",
        "    calf5 = float(input(\"Ingrese la calificacion del quinto examen: \"))\n",
        "\n",
        "    calf_min = min(calf1, calf2, calf3, calf4, calf5)\n",
        "\n",
        "    prom_final = (calf1 + calf2 + calf3 + calf4 + calf5) / 5\n",
        "\n",
        "    print(\"El promedio final es: \", prom_final)\n",
        "\n",
        "    if prom_final >= 90:\n",
        "        clasificacion = \"Excelente\"\n",
        "    elif prom_final >= 80:\n",
        "        clasificacion = \"Muy Bueno\"\n",
        "    elif prom_final >= 70:\n",
        "        clasificacion = \"Bueno\"\n",
        "    elif prom_final >= 60:\n",
        "        clasificacion = \"Suficiente\"\n",
        "    else:\n",
        "        clasificacion = \"Insuficiente\"\n",
        "\n",
        "    print(f\"El promedio final es: {prom_final}\")\n",
        "    print(f\"La calificación más baja que se eliminó fue: {calf_min}\")\n",
        "    print(f\"Clasificación del promedio final: {clasificacion}\")\n",
        "\n",
        "except ValueError:\n",
        "    print(\"Error: Solo se permiten numeros\")\n",
        "except SyntaxError:\n",
        "    print(\"Error: Algo salio mal en la sintaxis\")\n",
        "\n"
      ]
    }
  ]
}