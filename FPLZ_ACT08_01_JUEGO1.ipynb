{
  "nbformat": 4,
  "nbformat_minor": 0,
  "metadata": {
    "colab": {
      "provenance": [],
      "authorship_tag": "ABX9TyPgcd54WqtFIR9DNfP+dIwG",
      "include_colab_link": true
    },
    "kernelspec": {
      "name": "python3",
      "display_name": "Python 3"
    },
    "language_info": {
      "name": "python"
    }
  },
  "cells": [
    {
      "cell_type": "markdown",
      "metadata": {
        "id": "view-in-github",
        "colab_type": "text"
      },
      "source": [
        "<a href=\"https://colab.research.google.com/github/ZahirFelixx/codigos_python/blob/main/FPLZ_ACT08_01_JUEGO1.ipynb\" target=\"_parent\"><img src=\"https://colab.research.google.com/assets/colab-badge.svg\" alt=\"Open In Colab\"/></a>"
      ]
    },
    {
      "cell_type": "code",
      "execution_count": 2,
      "metadata": {
        "id": "Fow0JSo5dWIH",
        "colab": {
          "base_uri": "https://localhost:8080/"
        },
        "outputId": "9733a54b-c428-47ab-f1da-7db2f24e2073"
      },
      "outputs": [
        {
          "output_type": "stream",
          "name": "stdout",
          "text": [
            "Intento 1/3. ¿Que numero crees que genero la computadora? 1\n",
            "Intento 2/3. ¿Que numero crees que genero la computadora? 2\n",
            "Intento 3/3. ¿Que numero crees que genero la computadora? 3\n",
            "No adivinaste en 3 intentos. El número era 8.\n",
            "¿Quieres jugar de nuevo? (s/n) 4\n",
            "Juegos ganados: 0\n",
            "Juegos perdidos: 1\n"
          ]
        }
      ],
      "source": [
        "#Felix Peraza Luis Zahir 369453\n",
        "#09-10-2023\n",
        "#Programa en python que genere un número entre el 1 y 10 (no visible)\n",
        "#jueguito\n",
        "\n",
        "import random\n",
        "\n",
        "def validar_numero(numero):\n",
        "    try:\n",
        "        numero = int(numero)\n",
        "        if 1 <= numero <= 10:\n",
        "            return True\n",
        "        else:\n",
        "            print(\"Por favor ingrese un numero entre 1 y 10.\")\n",
        "            return False\n",
        "    except ValueError:\n",
        "        print(\"Por favor ingrese un numero valido.\")\n",
        "        return False\n",
        "\n",
        "def jugar():\n",
        "    numero_generado = random.randint(1, 10)\n",
        "    intentos = 3\n",
        "\n",
        "    for intento in range(intentos):\n",
        "        while True:\n",
        "            intento_usuario = input(f\"Intento {intento + 1}/{intentos}. ¿Que numero crees que genero la computadora? \")\n",
        "\n",
        "            if validar_numero(intento_usuario):\n",
        "                break\n",
        "\n",
        "        if int(intento_usuario) == numero_generado:\n",
        "            print(\"Ganaste\")\n",
        "            return True\n",
        "\n",
        "    print(f\"No adivinaste en {intentos} intentos. El número era {numero_generado}.\")\n",
        "    return False\n",
        "\n",
        "ganados = 0\n",
        "perdidos = 0\n",
        "\n",
        "while True:\n",
        "    if jugar():\n",
        "        ganados += 1\n",
        "    else:\n",
        "        perdidos += 1\n",
        "\n",
        "    jugar_otra_vez = input(\"¿Quieres jugar de nuevo? (s/n) \")\n",
        "    if jugar_otra_vez.lower() != 's':\n",
        "        break\n",
        "\n",
        "print(f\"Juegos ganados: {ganados}\")\n",
        "print(f\"Juegos perdidos: {perdidos}\")"
      ]
    }
  ]
}