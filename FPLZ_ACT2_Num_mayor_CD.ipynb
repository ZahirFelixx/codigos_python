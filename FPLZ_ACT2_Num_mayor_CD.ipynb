{
  "nbformat": 4,
  "nbformat_minor": 0,
  "metadata": {
    "colab": {
      "provenance": [],
      "authorship_tag": "ABX9TyOZnTS71UiXY6RHH2OYIexI",
      "include_colab_link": true
    },
    "kernelspec": {
      "name": "python3",
      "display_name": "Python 3"
    },
    "language_info": {
      "name": "python"
    }
  },
  "cells": [
    {
      "cell_type": "markdown",
      "metadata": {
        "id": "view-in-github",
        "colab_type": "text"
      },
      "source": [
        "<a href=\"https://colab.research.google.com/github/ZahirFelixx/codigos_python/blob/main/FPLZ_ACT2_Num_mayor_CD.ipynb\" target=\"_parent\"><img src=\"https://colab.research.google.com/assets/colab-badge.svg\" alt=\"Open In Colab\"/></a>"
      ]
    },
    {
      "cell_type": "markdown",
      "source": [],
      "metadata": {
        "id": "qd0aul0cExt6"
      }
    },
    {
      "cell_type": "code",
      "source": [
        "#Felix Peraza Luis Zahir 369453\n",
        "#Fecha: 25-08-2023\n",
        "#Leer que numero es mayo con condiciones  simples\n",
        "#Num_mayor_simple\n",
        "\n",
        "num1 = int (input((f\"Ingrese el numero 1: \")))\n",
        "\n",
        "num2 = int (input((f\"Ingrese el numero 2: \")))\n",
        "\n",
        "if num1 > num2:\n",
        "    print(\"El mumero mayor es: \", num1)\n",
        "\n",
        "if num2 > num1:\n",
        "    print (\"El nunero mayor es: \", num2)\n",
        "\n",
        "\n",
        "\n",
        "\n"
      ],
      "metadata": {
        "colab": {
          "base_uri": "https://localhost:8080/"
        },
        "id": "An9H0WKYLZFF",
        "outputId": "130cb50b-4370-499c-d86b-18fb5f88cf01"
      },
      "execution_count": null,
      "outputs": [
        {
          "output_type": "stream",
          "name": "stdout",
          "text": [
            "Ingrese el numero 1: 2\n",
            "Ingrese el numero 2: 23\n",
            "El nunero mayor es:  23\n"
          ]
        }
      ]
    },
    {
      "cell_type": "code",
      "source": [],
      "metadata": {
        "id": "4F3mG3_wSrpU"
      },
      "execution_count": null,
      "outputs": []
    }
  ]
}