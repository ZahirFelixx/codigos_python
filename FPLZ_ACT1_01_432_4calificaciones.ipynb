{
  "nbformat": 4,
  "nbformat_minor": 0,
  "metadata": {
    "colab": {
      "provenance": [],
      "authorship_tag": "ABX9TyO+p0QAlrRTm7mQsrm8u/9o",
      "include_colab_link": true
    },
    "kernelspec": {
      "name": "python3",
      "display_name": "Python 3"
    },
    "language_info": {
      "name": "python"
    }
  },
  "cells": [
    {
      "cell_type": "markdown",
      "metadata": {
        "id": "view-in-github",
        "colab_type": "text"
      },
      "source": [
        "<a href=\"https://colab.research.google.com/github/ZahirFelixx/codigos_python/blob/main/FPLZ_ACT1_01_432_4calificaciones.ipynb\" target=\"_parent\"><img src=\"https://colab.research.google.com/assets/colab-badge.svg\" alt=\"Open In Colab\"/></a>"
      ]
    },
    {
      "cell_type": "markdown",
      "source": [
        "7.- Programa en Python que lea 4 calificaciones de un alumno, desplegar el promedio del alumno"
      ],
      "metadata": {
        "id": "yZmpbiE-F6Ac"
      }
    },
    {
      "cell_type": "code",
      "execution_count": null,
      "metadata": {
        "colab": {
          "base_uri": "https://localhost:8080/"
        },
        "id": "hAxxzudnFJFA",
        "outputId": "72f03813-4efe-4ab4-d746-e4f670774cf4"
      },
      "outputs": [
        {
          "output_type": "stream",
          "name": "stdout",
          "text": [
            "Ingrese las calificaciones de sus 4 parciales: \n",
            "Ingrese la calificacion del primer parical: \n",
            "80\n",
            "Ingrese la calificacion del segundo parical: \n",
            "90\n",
            "Ingrese la calificacion del tercer parical: \n",
            "70\n",
            "Ingrese la calificacion del cuarto parical: \n",
            "50\n",
            "Tu promedio final es:  72.5\n"
          ]
        }
      ],
      "source": [
        "#Felix Peraza Luis Zahir 369453\n",
        "#19-08-2023\n",
        "#Leera 4 calificaciones y te dara tu promedio\n",
        "#Promediador\n",
        "\n",
        "print (\"Ingrese las calificaciones de sus 4 parciales: \")\n",
        "\n",
        "print (\"Ingrese la calificacion del primer parical: \")\n",
        "calf1 = float (input())\n",
        "print (\"Ingrese la calificacion del segundo parical: \")\n",
        "calf2 = float (input())\n",
        "print (\"Ingrese la calificacion del tercer parical: \")\n",
        "calf3 = float (input())\n",
        "print (\"Ingrese la calificacion del cuarto parical: \")\n",
        "calf4 = float (input())\n",
        "\n",
        "prom = (calf1 + calf2 + calf3 + calf4) / 4\n",
        "\n",
        "print (\"Tu promedio final es: \", prom)"
      ]
    }
  ]
}