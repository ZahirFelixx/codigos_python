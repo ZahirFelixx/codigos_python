{
  "nbformat": 4,
  "nbformat_minor": 0,
  "metadata": {
    "colab": {
      "provenance": [],
      "authorship_tag": "ABX9TyP+WkDWc1iq180nJF8DePxh",
      "include_colab_link": true
    },
    "kernelspec": {
      "name": "python3",
      "display_name": "Python 3"
    },
    "language_info": {
      "name": "python"
    }
  },
  "cells": [
    {
      "cell_type": "markdown",
      "metadata": {
        "id": "view-in-github",
        "colab_type": "text"
      },
      "source": [
        "<a href=\"https://colab.research.google.com/github/ZahirFelixx/codigos_python/blob/main/FPLZ_ACT4_08_432_AREA_CIRCULO_TRY.ipynb\" target=\"_parent\"><img src=\"https://colab.research.google.com/assets/colab-badge.svg\" alt=\"Open In Colab\"/></a>"
      ]
    },
    {
      "cell_type": "code",
      "execution_count": 1,
      "metadata": {
        "colab": {
          "base_uri": "https://localhost:8080/"
        },
        "id": "jwigqas0bVqI",
        "outputId": "143c8d65-0af7-40f8-b0e7-aae9e47c77b8"
      },
      "outputs": [
        {
          "output_type": "stream",
          "name": "stdout",
          "text": [
            "Ingrese el radio del circulo: 6\n",
            "El area del circulo es: 6.0\n"
          ]
        }
      ],
      "source": [
        "#Felix Peraza Luis Zahir 369453\n",
        "#09-09-23\n",
        "#Programa en Python que sirva para calcular el área de un circulo\n",
        "#area_circulo_try\n",
        "\n",
        "try:\n",
        "    radio = float(input(\"Ingrese el radio del circulo: \"))\n",
        "\n",
        "    if radio > 0:\n",
        "        area = 3.1416 * (radio**2)\n",
        "\n",
        "        print(f\"El area del circulo es:\", radio)\n",
        "    else:\n",
        "        print(\"Error: El radio debe ser un numero positivo.\")\n",
        "\n",
        "except ValueError:\n",
        "    print(\"Error: Ingresa un valor real valido.\")"
      ]
    }
  ]
}