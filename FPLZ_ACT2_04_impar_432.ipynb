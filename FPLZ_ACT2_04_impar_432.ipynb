{
  "nbformat": 4,
  "nbformat_minor": 0,
  "metadata": {
    "colab": {
      "provenance": [],
      "authorship_tag": "ABX9TyO/gKn/nnMCPJeh+VMpHIfH",
      "include_colab_link": true
    },
    "kernelspec": {
      "name": "python3",
      "display_name": "Python 3"
    },
    "language_info": {
      "name": "python"
    }
  },
  "cells": [
    {
      "cell_type": "markdown",
      "metadata": {
        "id": "view-in-github",
        "colab_type": "text"
      },
      "source": [
        "<a href=\"https://colab.research.google.com/github/ZahirFelixx/codigos_python/blob/main/FPLZ_ACT2_04_impar_432.ipynb\" target=\"_parent\"><img src=\"https://colab.research.google.com/assets/colab-badge.svg\" alt=\"Open In Colab\"/></a>"
      ]
    },
    {
      "cell_type": "markdown",
      "source": [
        "4.- Programa en Python que lea un número entero, y desplegar si el número es “PAR” o “IMPAR”\n",
        "\n"
      ],
      "metadata": {
        "id": "FEIWrL2FXucq"
      }
    },
    {
      "cell_type": "code",
      "source": [
        "#Felix Peraza Luis Zahir 369453\n",
        "#Fecha: 26-08-2023\n",
        "#Determina si un numero es par o impar\n",
        "#Imp_ar\n",
        "\n",
        "num = int(input(\"Ingrese un numero: \"))\n",
        "\n",
        "if num % 2 == 0:\n",
        "    print(\"El numero ingresado es par\")\n",
        "\n",
        "if num % 2 == 1:\n",
        "    print(\"El numero ingresado es impar\")"
      ],
      "metadata": {
        "colab": {
          "base_uri": "https://localhost:8080/"
        },
        "id": "JdJYLP9QY6NY",
        "outputId": "749754cd-cffe-45ac-f815-e622a8e21eff"
      },
      "execution_count": null,
      "outputs": [
        {
          "output_type": "stream",
          "name": "stdout",
          "text": [
            "Ingrese un numero: 4\n",
            "El numero ingresado es par\n"
          ]
        }
      ]
    }
  ]
}