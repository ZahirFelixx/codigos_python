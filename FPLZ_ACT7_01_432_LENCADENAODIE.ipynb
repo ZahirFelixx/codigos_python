{
  "nbformat": 4,
  "nbformat_minor": 0,
  "metadata": {
    "colab": {
      "provenance": [],
      "authorship_tag": "ABX9TyOTxO9BLqGvN1m4Vsme2BYP",
      "include_colab_link": true
    },
    "kernelspec": {
      "name": "python3",
      "display_name": "Python 3"
    },
    "language_info": {
      "name": "python"
    }
  },
  "cells": [
    {
      "cell_type": "markdown",
      "metadata": {
        "id": "view-in-github",
        "colab_type": "text"
      },
      "source": [
        "<a href=\"https://colab.research.google.com/github/ZahirFelixx/codigos_python/blob/main/FPLZ_ACT7_01_432_LENCADENAODIE.ipynb\" target=\"_parent\"><img src=\"https://colab.research.google.com/assets/colab-badge.svg\" alt=\"Open In Colab\"/></a>"
      ]
    },
    {
      "cell_type": "code",
      "execution_count": 24,
      "metadata": {
        "colab": {
          "base_uri": "https://localhost:8080/"
        },
        "id": "bckmwsSrfoUJ",
        "outputId": "020a4cf6-c903-4b88-84bd-8654427306a4"
      },
      "outputs": [
        {
          "output_type": "stream",
          "name": "stdout",
          "text": [
            " [0] Odie ---> 4 \n",
            " [1] Bobtoronja ---> 10 \n",
            " [2] Atom ---> 4 \n",
            " [3] computadora ---> 11 \n",
            " [4] Sina ---> 4 \n",
            " [5] Fifi ---> 4 \n",
            " [6] Luisina ---> 7 \n"
          ]
        }
      ],
      "source": [
        " #Felix Peraza Luis Zahir 369453\n",
        " #29-09-2023\n",
        " #Función que utilice una lista con los nombres\n",
        " #funcion nombres\n",
        "\n",
        "for i, element in enumerate(list):\n",
        "    total = len(element)\n",
        "    print(f\" {[i]} {element} ---> {total} \")\n",
        "\n",
        "\n",
        "def func_list():\n",
        "    list = ['Odie','Bobtoronja', 'Atom','computadora', 'Sina', 'Fifi', 'Luisina']\n"
      ]
    }
  ]
}