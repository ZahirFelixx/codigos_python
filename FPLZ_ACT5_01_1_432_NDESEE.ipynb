{
  "nbformat": 4,
  "nbformat_minor": 0,
  "metadata": {
    "colab": {
      "provenance": [],
      "authorship_tag": "ABX9TyPjD6ajJ374MX6zT3HIYHFt",
      "include_colab_link": true
    },
    "kernelspec": {
      "name": "python3",
      "display_name": "Python 3"
    },
    "language_info": {
      "name": "python"
    }
  },
  "cells": [
    {
      "cell_type": "markdown",
      "metadata": {
        "id": "view-in-github",
        "colab_type": "text"
      },
      "source": [
        "<a href=\"https://colab.research.google.com/github/ZahirFelixx/codigos_python/blob/main/FPLZ_ACT5_01_1_432_NDESEE.ipynb\" target=\"_parent\"><img src=\"https://colab.research.google.com/assets/colab-badge.svg\" alt=\"Open In Colab\"/></a>"
      ]
    },
    {
      "cell_type": "markdown",
      "source": [
        "1.- función que lea n cantidad de números hasta que el usuario lo desee, desplegar la suma de los números, media y valor de los números mayores y menores. Ejercicio 1"
      ],
      "metadata": {
        "id": "4syZ11DE7XLR"
      }
    },
    {
      "cell_type": "code",
      "execution_count": 17,
      "metadata": {
        "colab": {
          "base_uri": "https://localhost:8080/"
        },
        "id": "nJrTxOp7zdQT",
        "outputId": "bed19686-f91c-4ebb-97cd-1610e86881a5"
      },
      "outputs": [
        {
          "name": "stdout",
          "output_type": "stream",
          "text": [
            "Ingrese un numero o ingrese 0 para terminar: 45\n",
            "La suma total de los numeros es 45\n",
            "La media de los numeros es 45.0\n",
            "El valor maximo es 45\n",
            "El valor mini es 45\n",
            "Ingrese un numero o ingrese 0 para terminar: 45\n",
            "La suma total de los numeros es 90\n",
            "La media de los numeros es 45.0\n",
            "El valor maximo es 45\n",
            "El valor mini es 45\n",
            "Ingrese un numero o ingrese 0 para terminar: 90000\n",
            "La suma total de los numeros es 90090\n",
            "La media de los numeros es 30030.0\n",
            "El valor maximo es 90000\n",
            "El valor mini es 45\n",
            "Ingrese un numero o ingrese 0 para terminar: 1\n",
            "La suma total de los numeros es 90091\n",
            "La media de los numeros es 22522.75\n",
            "El valor maximo es 90000\n",
            "El valor mini es 1\n",
            "Ingrese un numero o ingrese 0 para terminar: 0\n"
          ]
        }
      ],
      "source": [
        "#Felix Peraza Luis Zahir 369453\n",
        "#17-09-23\n",
        "#función que lea n cantidad de números hasta que el usuario lo desee\n",
        "#Suma_def\n",
        "\n",
        "def sumanum():\n",
        "    print(f\"La suma total de los numeros es {suma}\")\n",
        "    medianum()\n",
        "\n",
        "def medianum():\n",
        "    media = suma / total\n",
        "    print(f\"La media de los numeros es {media}\")\n",
        "    mayormenor()\n",
        "\n",
        "def mayormenor():\n",
        "    maxi = max(sumanumeros)\n",
        "    print(f\"El valor maximo es {maxi}\")\n",
        "\n",
        "    mini = min(sumanumeros)\n",
        "    print(f\"El valor mini es {mini}\")\n",
        "\n",
        "suma = 0\n",
        "total = 0\n",
        "sumanumeros = []\n",
        "while True:\n",
        "        num = int(input(\"Ingrese un numero o ingrese 0 para terminar: \"))\n",
        "        if num == 0:\n",
        "            break\n",
        "        sumanumeros.append(num)\n",
        "        suma += num\n",
        "        total += 1\n",
        "        sumanum()\n",
        ""
      ]
    }
  ]
}