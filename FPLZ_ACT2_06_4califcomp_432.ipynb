{
  "nbformat": 4,
  "nbformat_minor": 0,
  "metadata": {
    "colab": {
      "provenance": [],
      "authorship_tag": "ABX9TyNdMJ1bofMyoMX6LyM3JuiA",
      "include_colab_link": true
    },
    "kernelspec": {
      "name": "python3",
      "display_name": "Python 3"
    },
    "language_info": {
      "name": "python"
    }
  },
  "cells": [
    {
      "cell_type": "markdown",
      "metadata": {
        "id": "view-in-github",
        "colab_type": "text"
      },
      "source": [
        "<a href=\"https://colab.research.google.com/github/ZahirFelixx/codigos_python/blob/main/FPLZ_ACT2_06_4califcomp_432.ipynb\" target=\"_parent\"><img src=\"https://colab.research.google.com/assets/colab-badge.svg\" alt=\"Open In Colab\"/></a>"
      ]
    },
    {
      "cell_type": "markdown",
      "source": [
        "6.- Programa en Python que lea 4 calificaciones de un alumno, calcular y desplegar el promedio acompañado de la leyenda APROBADO o REPROBADO\n",
        "\n"
      ],
      "metadata": {
        "id": "cF0jJofYVYyl"
      }
    },
    {
      "cell_type": "code",
      "source": [
        "#Felix Peraza Luis Zahir 369453\n",
        "#Fecha: 26-08-2023\n",
        "#leer 4 calificaciones con condiciones comopuestas\n",
        "#4calicomp\n",
        "\n",
        "calf1 = int(input(\"Ingrese la calificacion del primer parcial: \"))\n",
        "calf2 = int(input(\"Ingrese la calificacion del segundo parcial: \"))\n",
        "calf3 = int(input(\"Ingrese la calificacion del tercer parcial: \"))\n",
        "calf4 = int(input(\"Ingrese la calificacion del cuarto parcial: \"))\n",
        "\n",
        "prom = (calf1 + calf2 + calf3 + calf4) / 4\n",
        "\n",
        "if prom > 60:\n",
        "    print(\"Tu promedio es aprobatorio\")\n",
        "elif prom < 60:\n",
        "    print(\"Tu promedio es reprobatorio\")\n",
        "\n",
        "print(\"Tu promedio es: \", prom)"
      ],
      "metadata": {
        "colab": {
          "base_uri": "https://localhost:8080/"
        },
        "id": "p5L421hefgb1",
        "outputId": "e6bf7662-0ec8-4a5f-a828-f5e59d6cf4a1"
      },
      "execution_count": null,
      "outputs": [
        {
          "output_type": "stream",
          "name": "stdout",
          "text": [
            "Ingrese la calificacion del primer parcial: 23\n",
            "Ingrese la calificacion del segundo parcial: 10\n",
            "Ingrese la calificacion del tercer parcial: 100\n",
            "Ingrese la calificacion del cuarto parcial: 100\n",
            "Tu promedio es reprobatorio\n",
            "Tu promedio es:  58.25\n"
          ]
        }
      ]
    }
  ]
}