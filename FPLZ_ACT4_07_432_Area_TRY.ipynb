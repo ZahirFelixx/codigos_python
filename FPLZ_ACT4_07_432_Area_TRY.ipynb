{
  "nbformat": 4,
  "nbformat_minor": 0,
  "metadata": {
    "colab": {
      "provenance": [],
      "authorship_tag": "ABX9TyOxmVNwTqaPC60Q7seyJsKU",
      "include_colab_link": true
    },
    "kernelspec": {
      "name": "python3",
      "display_name": "Python 3"
    },
    "language_info": {
      "name": "python"
    }
  },
  "cells": [
    {
      "cell_type": "markdown",
      "metadata": {
        "id": "view-in-github",
        "colab_type": "text"
      },
      "source": [
        "<a href=\"https://colab.research.google.com/github/ZahirFelixx/codigos_python/blob/main/FPLZ_ACT4_07_432_Area_TRY.ipynb\" target=\"_parent\"><img src=\"https://colab.research.google.com/assets/colab-badge.svg\" alt=\"Open In Colab\"/></a>"
      ]
    },
    {
      "cell_type": "code",
      "execution_count": null,
      "metadata": {
        "id": "7H5zrZCNaJOP"
      },
      "outputs": [],
      "source": [
        "#Felix Peraza Luis Zahir 369453\n",
        "#09-09-23\n",
        "#Programa en Python que sirva para calcular el área de un triangulo, los datos de entrada deben ser forzosamente de tipo real\n",
        "#Triingulo_try\n",
        "\n",
        "try:\n",
        "    base = float(input(\"Ingrese la longitud de la base del triangulo: \"))\n",
        "    altura = float(input(\"Ingrese la altura del triangulo: \"))\n",
        "\n",
        "    area = (base * altura) / 2\n",
        "\n",
        "    print(\"El área del triangulo es: \", area)\n",
        "\n",
        "except ValueError:\n",
        "    print(\"Error: Ingresa un valor real valido.\")"
      ]
    }
  ]
}