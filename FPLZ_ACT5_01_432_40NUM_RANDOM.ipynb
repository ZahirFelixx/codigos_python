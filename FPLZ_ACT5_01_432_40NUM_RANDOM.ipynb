{
  "nbformat": 4,
  "nbformat_minor": 0,
  "metadata": {
    "colab": {
      "provenance": [],
      "authorship_tag": "ABX9TyOydfSdj71L4mJtEPiM3UR+",
      "include_colab_link": true
    },
    "kernelspec": {
      "name": "python3",
      "display_name": "Python 3"
    },
    "language_info": {
      "name": "python"
    }
  },
  "cells": [
    {
      "cell_type": "markdown",
      "metadata": {
        "id": "view-in-github",
        "colab_type": "text"
      },
      "source": [
        "<a href=\"https://colab.research.google.com/github/ZahirFelixx/codigos_python/blob/main/FPLZ_ACT5_01_432_40NUM_RANDOM.ipynb\" target=\"_parent\"><img src=\"https://colab.research.google.com/assets/colab-badge.svg\" alt=\"Open In Colab\"/></a>"
      ]
    },
    {
      "cell_type": "markdown",
      "source": [
        "\n",
        "1.- Programa en Python que genere 40 números aleatorios entre el 0 y 200, desplegar los números y la leyenda de cada número si es par o impar , la cantidad de los números pares e impares así como la suma de los números pares o impares. Ejercicio 1"
      ],
      "metadata": {
        "id": "6pNoULhLM6do"
      }
    },
    {
      "cell_type": "code",
      "source": [
        "import random"
      ],
      "metadata": {
        "id": "x2lRs08TOh5N"
      },
      "execution_count": null,
      "outputs": []
    },
    {
      "cell_type": "code",
      "execution_count": null,
      "metadata": {
        "id": "Q774oU3gOTFU",
        "colab": {
          "base_uri": "https://localhost:8080/"
        },
        "outputId": "254d2536-df76-4007-b26b-5f905047f9df"
      },
      "outputs": [
        {
          "output_type": "stream",
          "name": "stdout",
          "text": [
            "El numero 164 es par\n",
            "El numero 99 es impar\n",
            "El numero 93 es par\n",
            "El numero 58 es impar\n",
            "El numero 152 es par\n",
            "El numero 17 es impar\n",
            "El numero 120 es par\n",
            "El numero 88 es impar\n",
            "El numero 97 es par\n",
            "El numero 146 es impar\n",
            "El numero 2 es par\n",
            "El numero 94 es impar\n",
            "El numero 1 es par\n",
            "El numero 13 es impar\n",
            "El numero 35 es par\n",
            "El numero 154 es impar\n",
            "El numero 78 es par\n",
            "El numero 70 es impar\n",
            "El numero 2 es par\n",
            "El numero 175 es impar\n",
            "El numero 163 es par\n",
            "El numero 95 es impar\n",
            "El numero 65 es par\n",
            "El numero 73 es impar\n",
            "El numero 159 es par\n",
            "El numero 74 es impar\n",
            "El numero 106 es par\n",
            "El numero 179 es impar\n",
            "El numero 19 es par\n",
            "El numero 106 es impar\n",
            "El numero 170 es par\n",
            "El numero 9 es impar\n",
            "El numero 49 es par\n",
            "El numero 15 es impar\n",
            "El numero 145 es par\n",
            "El numero 7 es impar\n",
            "El numero 6 es par\n",
            "El numero 170 es impar\n",
            "El numero 46 es par\n",
            "El numero 150 es impar\n",
            "La suma de los numeros pares es 1672\n",
            "La suma de los numeros impares es 1792\n",
            "La suma de todos los numeros pares e impraes es 3464\n"
          ]
        }
      ],
      "source": [
        "from re import I\n",
        "#Felix Peraza Luis Zahir 369453\n",
        "#17-09-23\n",
        "#Programa en Python que genere 40 números aleatorios entre el 0 y 200, desplegar los números y la leyenda de cada número si es par o impar , la cantidad de los números pares e impares así como la suma de los números pares o impares.\n",
        "#40num\n",
        "\n",
        "num = 0\n",
        "sumpar = 0\n",
        "sumimpar = 0\n",
        "total = 0\n",
        "for i in range(40):\n",
        "    num = random.randrange(0, 200)\n",
        "    if i % 2 ==0:\n",
        "        print(f\"El numero {num} es par\")\n",
        "        sumpar = sumpar + num\n",
        "\n",
        "    else:\n",
        "        print(f\"El numero {num} es impar\")\n",
        "        sumimpar = sumimpar + num\n",
        "        total = sumpar + sumimpar\n",
        "\n",
        "\n",
        "print(f\"La suma de los numeros pares es {sumpar}\")\n",
        "print(f\"La suma de los numeros impares es {sumimpar}\")\n",
        "print(f\"La suma de todos los numeros pares e impraes es {total}\")\n",
        "\n",
        "\n",
        "\n",
        "\n",
        "\n",
        "\n",
        "\n",
        "\n",
        "\n"
      ]
    }
  ]
}