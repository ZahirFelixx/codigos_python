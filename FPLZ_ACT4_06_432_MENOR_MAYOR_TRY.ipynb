{
  "nbformat": 4,
  "nbformat_minor": 0,
  "metadata": {
    "colab": {
      "provenance": [],
      "authorship_tag": "ABX9TyMIjMP/jrQDGDGPoFMOEa4c",
      "include_colab_link": true
    },
    "kernelspec": {
      "name": "python3",
      "display_name": "Python 3"
    },
    "language_info": {
      "name": "python"
    }
  },
  "cells": [
    {
      "cell_type": "markdown",
      "metadata": {
        "id": "view-in-github",
        "colab_type": "text"
      },
      "source": [
        "<a href=\"https://colab.research.google.com/github/ZahirFelixx/codigos_python/blob/main/FPLZ_ACT4_06_432_MENOR_MAYOR_TRY.ipynb\" target=\"_parent\"><img src=\"https://colab.research.google.com/assets/colab-badge.svg\" alt=\"Open In Colab\"/></a>"
      ]
    },
    {
      "cell_type": "code",
      "execution_count": null,
      "metadata": {
        "id": "ibyP4ZiUZsLe"
      },
      "outputs": [],
      "source": [
        "#Felix Peraza Luis Zahir 369453\n",
        "#09-09-23\n",
        "# Programa en Python que lea 4 números enteros desplegar cuales el menor, cual es mayor\n",
        "#Meno_mayor_try\n",
        "\n",
        "try:\n",
        "    num1 = int(input(\"Ingrese el primer numero entero: \"))\n",
        "    num2 = int(input(\"Ingrese el segundo numero entero: \"))\n",
        "    num3 = int(input(\"Ingrese el tercer numero entero: \"))\n",
        "    num4 = int(input(\"Ingrese el cuarto numero entero: \"))\n",
        "\n",
        "    menor = min(num1, num2, num3, num4)\n",
        "    mayor = max(num1, num2, num3, num4)\n",
        "\n",
        "    print(\"El numero menor es: {menor}\")\n",
        "    print(\"El numero mayor es: {mayor}\")\n",
        "\n",
        "except ValueError:\n",
        "    print(\"Error: Ingresa un valor entero valido.\")"
      ]
    }
  ]
}