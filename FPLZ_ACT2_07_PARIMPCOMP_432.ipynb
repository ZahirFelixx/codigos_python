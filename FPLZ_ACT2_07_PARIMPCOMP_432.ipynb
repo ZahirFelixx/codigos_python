{
  "nbformat": 4,
  "nbformat_minor": 0,
  "metadata": {
    "colab": {
      "provenance": [],
      "authorship_tag": "ABX9TyO6JiExO60LKhefZWBlkLRw",
      "include_colab_link": true
    },
    "kernelspec": {
      "name": "python3",
      "display_name": "Python 3"
    },
    "language_info": {
      "name": "python"
    }
  },
  "cells": [
    {
      "cell_type": "markdown",
      "metadata": {
        "id": "view-in-github",
        "colab_type": "text"
      },
      "source": [
        "<a href=\"https://colab.research.google.com/github/ZahirFelixx/codigos_python/blob/main/FPLZ_ACT2_07_PARIMPCOMP_432.ipynb\" target=\"_parent\"><img src=\"https://colab.research.google.com/assets/colab-badge.svg\" alt=\"Open In Colab\"/></a>"
      ]
    },
    {
      "cell_type": "markdown",
      "source": [
        "8.- Programa en Python que lea un número entero, y desplegar si el número es “PAR” o “IMPAR” NOTA: EJERCICIOS PARA SER RESUELTOS USANDO EXCLUSIVAMENTE CONDICIONES COMPUESTO\n",
        "\n",
        "\n",
        "\n"
      ],
      "metadata": {
        "id": "7PnS6YJnV49Q"
      }
    },
    {
      "cell_type": "code",
      "source": [
        "#Felix Peraza Luis Zahir 369453\n",
        "#Fecha: 26-08-2023\n",
        "#leer par o impar con condiciones compuestas\n",
        "#parimpcomp\n",
        "\n",
        "num1 = int(input(\"Ingrese un numero: \"))\n",
        "num2 = int(input(\"Ingrese otro numero: \"))\n",
        "\n",
        "if num1 > num2:\n",
        "    print(\"El numero mayor es: \", num1)\n",
        "\n",
        "elif num2 > num1:\n",
        "    print(\"El numero mayor es: \", num2)"
      ],
      "metadata": {
        "colab": {
          "base_uri": "https://localhost:8080/"
        },
        "id": "AabpEYfJqTCy",
        "outputId": "026861a2-a21b-4ed1-b6d5-48a9e0111f38"
      },
      "execution_count": null,
      "outputs": [
        {
          "output_type": "stream",
          "name": "stdout",
          "text": [
            "Ingrese un numero: 55\n",
            "Ingrese otro numero: 1\n",
            "El numero mayor es:  55\n"
          ]
        }
      ]
    }
  ]
}