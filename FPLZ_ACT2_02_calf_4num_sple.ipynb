{
  "nbformat": 4,
  "nbformat_minor": 0,
  "metadata": {
    "colab": {
      "provenance": [],
      "authorship_tag": "ABX9TyNsKpNBtUcAfFnuXA9kgsmS",
      "include_colab_link": true
    },
    "kernelspec": {
      "name": "python3",
      "display_name": "Python 3"
    },
    "language_info": {
      "name": "python"
    }
  },
  "cells": [
    {
      "cell_type": "markdown",
      "metadata": {
        "id": "view-in-github",
        "colab_type": "text"
      },
      "source": [
        "<a href=\"https://colab.research.google.com/github/ZahirFelixx/codigos_python/blob/main/FPLZ_ACT2_02_calf_4num_sple.ipynb\" target=\"_parent\"><img src=\"https://colab.research.google.com/assets/colab-badge.svg\" alt=\"Open In Colab\"/></a>"
      ]
    },
    {
      "cell_type": "markdown",
      "source": [
        "2.- Programa en PythonAlgoritmo que lea 4 calificaciones de un alumno, calcular y desplegar el promedio acompañado de la leyenda \"APROBADO\" o \"REPROBADO\""
      ],
      "metadata": {
        "id": "Sd3JlyDlYBi6"
      }
    },
    {
      "cell_type": "code",
      "source": [
        "#Felix Peraza Luis Zahir 369453\n",
        "#Fecha: 25-08-2023\n",
        "#Programa que lee 4 calificaciones mediantes condiciones simoles\n",
        "#Calificacion_4_CD\n",
        "\n",
        "calf1 = float(input((f\"Ingrese la calificacion del primer parcial :\")))\n",
        "calf2 = float(input((f\"Ingrese la calificacion del segundo parcial: \")))\n",
        "calf3 = float(input((f\"Ingrese la calificacion del tercer parcial : \")))\n",
        "calf4 = float(input((f\"Ingrese la calificacion del cuarto parcial :\")))\n",
        "\n",
        "prom = (calf1 + calf2 + calf3 + calf4) / 4\n",
        "\n",
        "if prom < 60:\n",
        "    print(f\"Estas reprobado ;( \")\n",
        "    print(f\"Tu promedio es de: \", prom)\n",
        "if prom > 60:\n",
        "    print(f\"Estas aprobado :) \")\n",
        "    print(f\"Tu promedio es de: \", prom)\n"
      ],
      "metadata": {
        "colab": {
          "base_uri": "https://localhost:8080/"
        },
        "id": "XIeW2jKUT3At",
        "outputId": "0594e5c6-8398-4469-ee2c-9dbe0d6d96f9"
      },
      "execution_count": null,
      "outputs": [
        {
          "output_type": "stream",
          "name": "stdout",
          "text": [
            "Ingrese la calificacion del primer parcial :23\n",
            "Ingrese la calificacion del segundo parcial: 23\n",
            "Ingrese la calificacion del tercer parcial : 23\n",
            "Ingrese la calificacion del cuarto parcial :23\n",
            "Estas reprobado ;( \n",
            "Tu promedio es de:  23.0\n"
          ]
        }
      ]
    }
  ]
}