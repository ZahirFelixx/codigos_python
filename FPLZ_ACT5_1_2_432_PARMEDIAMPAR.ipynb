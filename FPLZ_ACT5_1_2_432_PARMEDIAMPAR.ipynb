{
  "nbformat": 4,
  "nbformat_minor": 0,
  "metadata": {
    "colab": {
      "provenance": [],
      "authorship_tag": "ABX9TyOfIh4+7Z0NLQvV3TYPYs1K",
      "include_colab_link": true
    },
    "kernelspec": {
      "name": "python3",
      "display_name": "Python 3"
    },
    "language_info": {
      "name": "python"
    }
  },
  "cells": [
    {
      "cell_type": "markdown",
      "metadata": {
        "id": "view-in-github",
        "colab_type": "text"
      },
      "source": [
        "<a href=\"https://colab.research.google.com/github/ZahirFelixx/codigos_python/blob/main/FPLZ_ACT5_1_2_432_PARMEDIAMPAR.ipynb\" target=\"_parent\"><img src=\"https://colab.research.google.com/assets/colab-badge.svg\" alt=\"Open In Colab\"/></a>"
      ]
    },
    {
      "cell_type": "markdown",
      "source": [
        "2.- función que genere 15 números impares entre 10 y 60 o máximo de 25 números. desplegar la media de los pares y media de impares.Ejercicio 2"
      ],
      "metadata": {
        "id": "CldsUG4PPIIk"
      }
    },
    {
      "cell_type": "code",
      "source": [
        "import random"
      ],
      "metadata": {
        "id": "NT0c9IpSO-Q_"
      },
      "execution_count": 1,
      "outputs": []
    },
    {
      "cell_type": "code",
      "execution_count": 15,
      "metadata": {
        "colab": {
          "base_uri": "https://localhost:8080/"
        },
        "id": "HHb-RYBdMB70",
        "outputId": "30532ce0-3dfb-4200-8b3e-5d49f2e940c5"
      },
      "outputs": [
        {
          "output_type": "stream",
          "name": "stdout",
          "text": [
            "El numero 31 es par\n",
            "El numero es impar\n",
            "La media de los numeros pares es: 0.40789473684210525\n",
            "La media de los numeros impares es : 0.5921052631578947\n",
            "El numero 13 es par\n",
            "El numero es impar\n",
            "La media de los numeros pares es: 0.3728813559322034\n",
            "La media de los numeros impares es : 0.6271186440677966\n",
            "El numero 50 es par\n",
            "El numero es impar\n",
            "La media de los numeros pares es: 0.4973544973544973\n",
            "La media de los numeros impares es : 0.5026455026455027\n",
            "El numero 28 es par\n",
            "El numero es impar\n",
            "La media de los numeros pares es: 0.5147679324894515\n",
            "La media de los numeros impares es : 0.48523206751054854\n",
            "El numero 57 es par\n",
            "El numero es impar\n",
            "La media de los numeros pares es: 0.5628930817610063\n",
            "La media de los numeros impares es : 0.4371069182389937\n",
            "El numero 54 es par\n",
            "El numero es impar\n",
            "La media de los numeros pares es: 0.5521327014218009\n",
            "La media de los numeros impares es : 0.44786729857819907\n",
            "El numero 53 es par\n",
            "El numero es impar\n",
            "La media de los numeros pares es: 0.5777777777777777\n",
            "La media de los numeros impares es : 0.4222222222222222\n",
            "El numero 48 es par\n",
            "El numero es impar\n",
            "La media de los numeros pares es: 0.5808695652173913\n",
            "La media de los numeros impares es : 0.4191304347826087\n",
            "El numero 24 es par\n",
            "El numero es impar\n",
            "La media de los numeros pares es: 0.551617873651772\n",
            "La media de los numeros impares es : 0.44838212634822805\n",
            "El numero 11 es par\n",
            "El numero es impar\n",
            "La media de los numeros pares es: 0.5241477272727273\n",
            "La media de los numeros impares es : 0.4758522727272727\n",
            "El numero 24 es par\n",
            "El numero es impar\n",
            "La media de los numeros pares es: 0.5219123505976095\n",
            "La media de los numeros impares es : 0.47808764940239046\n",
            "El numero 28 es par\n",
            "El numero es impar\n",
            "La media de los numeros pares es: 0.529559748427673\n",
            "La media de los numeros impares es : 0.47044025157232705\n",
            "El numero 53 es par\n",
            "La suma de todos los numeros pares e impraes es 795\n"
          ]
        }
      ],
      "source": [
        "#Felix Peraza Luis Zahir 369453\n",
        "#18-09-23\n",
        "#función que genere 15 numeros impares entre 10 y 60 o maximo de 25 numeros.\n",
        "#15_Impar_funcion\n",
        "\n",
        "def mediapar():\n",
        "    mediapar = 0\n",
        "    mediapar = sumpar / total\n",
        "    print(f\"La media de los numeros pares es: {mediapar}\")\n",
        "    mediaimpar()\n",
        "    return mediapar\n",
        "\n",
        "def mediaimpar():\n",
        "    mediaimpar = 0\n",
        "    mediaimpar = sumimpar / total\n",
        "    print(f\"La media de los numeros impares es : {mediaimpar}\")\n",
        "    return mediaimpar\n",
        "\n",
        "sumimpar = 0\n",
        "sumpar = 0\n",
        "\n",
        "for i in range(25):\n",
        "    num = random.randrange(10, 60)\n",
        "    if i % 2 ==0:\n",
        "        print(f\"El numero {num} es par\")\n",
        "        sumpar = sumpar + num\n",
        "    else:\n",
        "        print(\"El numero es impar\")\n",
        "        sumimpar = sumimpar + num\n",
        "        total = sumpar + sumimpar\n",
        "        mediapar()\n",
        "else:\n",
        "    print(f\"La suma de todos los numeros pares e impares es {total}\")"
      ]
    }
  ]
}