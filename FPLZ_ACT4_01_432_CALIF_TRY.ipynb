{
  "nbformat": 4,
  "nbformat_minor": 0,
  "metadata": {
    "colab": {
      "provenance": [],
      "authorship_tag": "ABX9TyM9fj45x7xIvIh6d+D1HV+s",
      "include_colab_link": true
    },
    "kernelspec": {
      "name": "python3",
      "display_name": "Python 3"
    },
    "language_info": {
      "name": "python"
    }
  },
  "cells": [
    {
      "cell_type": "markdown",
      "metadata": {
        "id": "view-in-github",
        "colab_type": "text"
      },
      "source": [
        "<a href=\"https://colab.research.google.com/github/ZahirFelixx/codigos_python/blob/main/FPLZ_ACT4_01_432_CALIF_TRY.ipynb\" target=\"_parent\"><img src=\"https://colab.research.google.com/assets/colab-badge.svg\" alt=\"Open In Colab\"/></a>"
      ]
    },
    {
      "cell_type": "code",
      "execution_count": null,
      "metadata": {
        "colab": {
          "base_uri": "https://localhost:8080/"
        },
        "id": "G4nKgIf_BJRb",
        "outputId": "1f0b8e06-3d47-4e0d-e078-02f7df41b7f7"
      },
      "outputs": [
        {
          "output_type": "stream",
          "name": "stdout",
          "text": [
            "Ingrese la calificacion del primer parcial: \n",
            "sina\n",
            "Solo se usan numeros para calcular una calificacion :|, menso\n"
          ]
        }
      ],
      "source": [
        "#Felix Peraza Luis Zahir 369453\n",
        "#09-09-23\n",
        "# Programa en python   que lea 3 calificaciones calcule el promedio del alumno y desplegar:\n",
        "#Calif_try\n",
        "\n",
        "try:\n",
        "    calf1 = float(input(\"Ingrese la calificacion del primer parcial: \\n\"))\n",
        "    calf2 = float(input(\"Ingrese la calificacion del segundo parcial: \\n\"))\n",
        "    calf3 = float(input(\"Ingrese la calificacion del tercer parcial: \\n\"))\n",
        "\n",
        "\n",
        "\n",
        "    prom = (calf1 + calf2 + calf3) / 3\n",
        "\n",
        "    if prom >= 70 and prom < 80:\n",
        "        print(\"Tu promedio es regular \\n\")\n",
        "\n",
        "    elif prom >= 60 and prom < 70:\n",
        "        print(\"Tu promedio es suficiente \\n\")\n",
        "\n",
        "    elif prom >= 30 and prom < 60:\n",
        "        print(\"Debes hacer extraordinario \\n\")\n",
        "\n",
        "    elif prom < 30:\n",
        "        print(\"Debes repetir\")\n",
        "\n",
        "    else:\n",
        "        if prom >= 80 and prom < 90:\n",
        "            print(\"Tu promedio es bueno \\n\")\n",
        "\n",
        "        elif prom >= 90 and prom < 98:\n",
        "            print(\"Tu promedio es muy bueno \\n\")\n",
        "\n",
        "        elif prom >= 98 and prom < 100:\n",
        "            print(\"Tu promedio es excelente \\n\")\n",
        "\n",
        "        else:\n",
        "            print(\"Error de promedio\")\n",
        "\n",
        "except ValueError:\n",
        "    print(\"Solo se usan numeros para calcular una calificacion :|, menso\")\n",
        "\n"
      ]
    }
  ]
}