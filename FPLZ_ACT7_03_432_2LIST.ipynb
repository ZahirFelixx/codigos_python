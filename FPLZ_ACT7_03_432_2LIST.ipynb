{
  "cells": [
    {
      "cell_type": "markdown",
      "metadata": {
        "id": "view-in-github",
        "colab_type": "text"
      },
      "source": [
        "<a href=\"https://colab.research.google.com/github/ZahirFelixx/codigos_python/blob/main/FPLZ_ACT7_03_432_2LIST.ipynb\" target=\"_parent\"><img src=\"https://colab.research.google.com/assets/colab-badge.svg\" alt=\"Open In Colab\"/></a>"
      ]
    },
    {
      "cell_type": "code",
      "execution_count": null,
      "metadata": {
        "id": "RHktZC2dwezr"
      },
      "outputs": [],
      "source": [
        "#Felix Peraza Luis Zahir 369453\n",
        "#02-10-2023\n",
        "# función que reciba dos listas de números del mismo tamaño y calcule la suma de los elementos\n",
        "# func elementos\n",
        "\n",
        "\n",
        "def suma(lista, lista1):\n",
        "    if len(lista) != len(lista1):\n",
        "        print(\"Las listas son de diferentes tamaños\")\n",
        "        if len(lista) < len(lista1):\n",
        "            print(\"La Lista 1 es mayor que la Lista 2, se usará Lista 2 para hacer la suma\")\n",
        "            print(sum(lista1))\n",
        "        else:\n",
        "            print(\"La Lista 1 es menor que la Lista 2, se usará Lista 1 para hacer la suma\")\n",
        "            print(sum(lista))\n",
        "    else:\n",
        "        total = sum(lista + lista1)\n",
        "        resultado(lista, lista1, total)\n",
        "\n",
        "def resultado(lista, lista1, total):\n",
        "    print(f\"La suma de las dos listas es: {total}\")\n",
        "\n",
        "def pedir_numero(mensaje):\n",
        "    while True:\n",
        "        try:\n",
        "            num = int(input(mensaje))\n",
        "            if num >= 0 and num <= 99:\n",
        "                return num\n",
        "            else:\n",
        "                print(\"El número ingresado no está en el rango de 1 al 99.\")\n",
        "        except ValueError:\n",
        "            print(\"Error: Solo se permiten valores numéricos.\")\n",
        "\n",
        "lista = []\n",
        "lista1 = []\n",
        "\n",
        "while True:\n",
        "    letra = pedir_numero(\"Ingrese un numero entre el 1 y el 99, 0 si quiere terminar: \")\n",
        "    if letra == 0:\n",
        "        break\n",
        "    lista.append(letra)\n",
        "\n",
        "while True:\n",
        "    letra1 = pedir_numero(\"Ingrese otro numero entre el 1 y el 99, 0 si quiere terminar: \")\n",
        "    if letra1 == 0:\n",
        "        break\n",
        "    lista1.append(letra1)\n",
        "\n",
        "print(\"Las listas son:\")\n",
        "print(lista)\n",
        "print(lista1)\n",
        "suma(lista, lista1)\n",
        "\n",
        "\n",
        "\n",
        "\n"
      ]
    }
  ],
  "metadata": {
    "colab": {
      "provenance": [],
      "authorship_tag": "ABX9TyPKHA18sQwJMgz5Z3hPD6DT",
      "include_colab_link": true
    },
    "kernelspec": {
      "display_name": "Python 3",
      "name": "python3"
    },
    "language_info": {
      "name": "python"
    }
  },
  "nbformat": 4,
  "nbformat_minor": 0
}