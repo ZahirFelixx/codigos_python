{
  "nbformat": 4,
  "nbformat_minor": 0,
  "metadata": {
    "colab": {
      "provenance": [],
      "authorship_tag": "ABX9TyO0BWxUmAci7Oe2/YtEvVFq",
      "include_colab_link": true
    },
    "kernelspec": {
      "name": "python3",
      "display_name": "Python 3"
    },
    "language_info": {
      "name": "python"
    }
  },
  "cells": [
    {
      "cell_type": "markdown",
      "metadata": {
        "id": "view-in-github",
        "colab_type": "text"
      },
      "source": [
        "<a href=\"https://colab.research.google.com/github/ZahirFelixx/codigos_python/blob/main/FPLZ_ACT5_05_432_CALI_REPETIR.ipynb\" target=\"_parent\"><img src=\"https://colab.research.google.com/assets/colab-badge.svg\" alt=\"Open In Colab\"/></a>"
      ]
    },
    {
      "cell_type": "markdown",
      "source": [
        "5.- Programa en Python que sirva para leer el promedio de una materia. donde el usuario tendrá un máximo de 3 oportunidades de cursar la materia, si el promedio es aprobado, felicitarlo y continuar el siguiente semestre, si promedio es reprobado deberá salir mensaje de repetir materia o es baja académica si ha reprobado 3 veces. Ejercicio 5\n",
        "\n"
      ],
      "metadata": {
        "id": "jpPYIHK8K3KH"
      }
    },
    {
      "cell_type": "code",
      "execution_count": 4,
      "metadata": {
        "colab": {
          "base_uri": "https://localhost:8080/"
        },
        "id": "tGcT_tGkK2Hw",
        "outputId": "3be7539d-65c6-4390-a357-da79e8399747"
      },
      "outputs": [
        {
          "output_type": "stream",
          "name": "stdout",
          "text": [
            "Ingrese su promedio45\n",
            "¿Cuantas veces a reprobado?\n",
            "Ingrese 1, 2, o 42\n",
            "Esta es tu ultima oportunidad de repetir\n"
          ]
        }
      ],
      "source": [
        "#Felix Peraza Luis Zahir 369453\n",
        "#17-09-23\n",
        "#leer el promedio de una materia. donde el usuario tendrá un máximo de 3 oportunidades de cursar la materia\n",
        "#recursar\n",
        "try:\n",
        "    prom = float(input(\"Ingrese su promedio\"))\n",
        "    if prom > 60:\n",
        "        print(\"Felicidades, estas aprobado \")\n",
        "        print(\"Te esperamos en el siguiente semestre\")\n",
        "\n",
        "    elif prom < 60:\n",
        "        print(\"¿Cuantas veces a reprobado?\")\n",
        "        repro = int(input(\"Ingrese 1, 2, o 4\"))\n",
        "        if repro == 1:\n",
        "            print(\"Tienes 2 opprtunidades de repetir\")\n",
        "        elif repro == 2:\n",
        "            print(\"Esta es tu ultima oportunidad de repetir\")\n",
        "        elif repro == 3:\n",
        "            print(\"Haz reprobado por 3 ocaciones, seras dado de baja academica\")\n",
        "\n",
        "except ValueError:\n",
        "    print(\"Error: Los valores ingresados deben ser números enteros.\")\n",
        "except:\n",
        "    print(\"Ocurrió un error inesperado.\")\n",
        ""
      ]
    }
  ]
}