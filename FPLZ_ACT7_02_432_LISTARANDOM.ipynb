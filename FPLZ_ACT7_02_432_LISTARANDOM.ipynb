{
  "nbformat": 4,
  "nbformat_minor": 0,
  "metadata": {
    "colab": {
      "provenance": [],
      "authorship_tag": "ABX9TyOTpyvlfOmOvGphdkV5Mry5",
      "include_colab_link": true
    },
    "kernelspec": {
      "name": "python3",
      "display_name": "Python 3"
    },
    "language_info": {
      "name": "python"
    }
  },
  "cells": [
    {
      "cell_type": "markdown",
      "metadata": {
        "id": "view-in-github",
        "colab_type": "text"
      },
      "source": [
        "<a href=\"https://colab.research.google.com/github/ZahirFelixx/codigos_python/blob/main/FPLZ_ACT7_02_432_LISTARANDOM.ipynb\" target=\"_parent\"><img src=\"https://colab.research.google.com/assets/colab-badge.svg\" alt=\"Open In Colab\"/></a>"
      ]
    },
    {
      "cell_type": "code",
      "execution_count": 29,
      "metadata": {
        "colab": {
          "base_uri": "https://localhost:8080/"
        },
        "id": "xSejXoAhppsz",
        "outputId": "44a24b44-6860-4cc5-ad48-6675b046724d"
      },
      "outputs": [
        {
          "output_type": "stream",
          "name": "stdout",
          "text": [
            " [0] --> 41\n",
            " [1] --> 48\n",
            " [2] --> 32\n",
            " [3] --> 49\n",
            " [4] --> 31\n",
            " [5] --> 36\n",
            " [6] --> 44\n",
            " [7] --> 33\n",
            " [8] --> 47\n",
            " [9] --> 38\n"
          ]
        },
        {
          "output_type": "execute_result",
          "data": {
            "text/plain": [
              "[41, 48, 32, 49, 31, 36, 44, 33, 47, 38]"
            ]
          },
          "metadata": {},
          "execution_count": 29
        }
      ],
      "source": [
        "#Felix Peraza Luis Zahir 369453\n",
        "#29-09-2023\n",
        "#Programa que tengas dos funcinoes, una donde no se repitan los numeros y otra donde se de el indice\n",
        "#menu_list\n",
        "\n",
        "def list_randi():\n",
        "    import random\n",
        "    list = []\n",
        "    list = random.sample(range(30,51), 10)\n",
        "    imp_randi(list)\n",
        "    return list\n",
        "\n",
        "def imp_randi(list):\n",
        "    for i, element in enumerate(list):\n",
        "        print(f\" {[i]} --> {element}\")\n",
        "    return list\n",
        "\n",
        "list_randi()\n",
        "\n"
      ]
    }
  ]
}