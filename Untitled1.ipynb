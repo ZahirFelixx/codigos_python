{
  "nbformat": 4,
  "nbformat_minor": 0,
  "metadata": {
    "colab": {
      "provenance": [],
      "authorship_tag": "ABX9TyOkuJnYAUl6zoBxmP22Zzj1",
      "include_colab_link": true
    },
    "kernelspec": {
      "name": "python3",
      "display_name": "Python 3"
    },
    "language_info": {
      "name": "python"
    }
  },
  "cells": [
    {
      "cell_type": "markdown",
      "metadata": {
        "id": "view-in-github",
        "colab_type": "text"
      },
      "source": [
        "<a href=\"https://colab.research.google.com/github/ZahirFelixx/codigos_python/blob/main/Untitled1.ipynb\" target=\"_parent\"><img src=\"https://colab.research.google.com/assets/colab-badge.svg\" alt=\"Open In Colab\"/></a>"
      ]
    },
    {
      "cell_type": "code",
      "execution_count": null,
      "metadata": {
        "colab": {
          "base_uri": "https://localhost:8080/"
        },
        "id": "9eXEdxmdS-30",
        "outputId": "7d1b1129-bc6d-4e74-b126-be29fc9e3cc2"
      },
      "outputs": [
        {
          "output_type": "stream",
          "name": "stdout",
          "text": [
            "Ingrese la cantidad de metros cubicos que consumio: 2\n",
            "El subtotal es:  50\n",
            "Considerando su total con iba es:  58.0\n"
          ]
        }
      ],
      "source": [
        "#Felix Peraza Luis Zahir 369453\n",
        "#Fecha: 02-09-2023\n",
        "#Algoritmo que sirva para desplegar el Total de una llamada telefónica donde se pide como datos de entrada los minutos y el tipo de llamada\n",
        "#CESPE\n",
        "\n",
        "m3 = float(input(\"Ingrese la cantidad de metros cubicos que consumio: \"))\n",
        "\n",
        "total = 0\n",
        "\n",
        "if m3 <= 4:\n",
        "    total = 50\n",
        "\n",
        "elif m3 >= 5 and m3 <= 15:\n",
        "    total = m3 * 8\n",
        "\n",
        "elif m3 >= 16  and m3 <= 50:\n",
        "    total = m3 * 10\n",
        "\n",
        "elif m3 > 51:\n",
        "    total = m3 * 11\n",
        "\n",
        "subtotal = total\n",
        "iva = subtotal * 0.16\n",
        "total = subtotal + iva\n",
        "\n",
        "print(\"El subtotal es: \", subtotal)\n",
        "print(\"Considerando su total con iba es: \", total)"
      ]
    }
  ]
}