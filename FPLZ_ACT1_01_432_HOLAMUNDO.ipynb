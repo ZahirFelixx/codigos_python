{
  "nbformat": 4,
  "nbformat_minor": 0,
  "metadata": {
    "colab": {
      "provenance": [],
      "authorship_tag": "ABX9TyODp8eGQuBJmzKshkEtqUsP",
      "include_colab_link": true
    },
    "kernelspec": {
      "name": "python3",
      "display_name": "Python 3"
    },
    "language_info": {
      "name": "python"
    }
  },
  "cells": [
    {
      "cell_type": "markdown",
      "metadata": {
        "id": "view-in-github",
        "colab_type": "text"
      },
      "source": [
        "<a href=\"https://colab.research.google.com/github/ZahirFelixx/codigos_python/blob/main/FPLZ_ACT1_01_432_HOLAMUNDO.ipynb\" target=\"_parent\"><img src=\"https://colab.research.google.com/assets/colab-badge.svg\" alt=\"Open In Colab\"/></a>"
      ]
    },
    {
      "cell_type": "code",
      "execution_count": null,
      "metadata": {
        "id": "boOwGqTfoRgO"
      },
      "outputs": [],
      "source": []
    },
    {
      "cell_type": "markdown",
      "source": [
        "1.- Programa en Python Mostrar un mensaje que diga “HOLA MUNDO” en un solo renglón usando 2 print. Ejercicio 1\n",
        "\n"
      ],
      "metadata": {
        "id": "cNXuyX_B9xn0"
      }
    },
    {
      "cell_type": "code",
      "source": [
        "# Felix Peraza Luis Zahir 369453\n",
        "# 19-08-2023\n",
        "# Hola mundo\n",
        "# Hola mundo\n",
        "\n",
        "print(f\"Hola\", end=\" \")\n",
        "print(f\"Mundo\")"
      ],
      "metadata": {
        "colab": {
          "base_uri": "https://localhost:8080/"
        },
        "id": "XiB_VFnYofAR",
        "outputId": "a4398f7f-a0ed-4acb-e632-4d84c90108fe"
      },
      "execution_count": null,
      "outputs": [
        {
          "output_type": "stream",
          "name": "stdout",
          "text": [
            "Hola Mundo\n"
          ]
        }
      ]
    }
  ]
}