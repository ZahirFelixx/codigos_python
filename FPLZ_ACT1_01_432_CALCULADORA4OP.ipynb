{
  "nbformat": 4,
  "nbformat_minor": 0,
  "metadata": {
    "colab": {
      "provenance": [],
      "authorship_tag": "ABX9TyPCbHa+LnlXi7//HcleFTRZ",
      "include_colab_link": true
    },
    "kernelspec": {
      "name": "python3",
      "display_name": "Python 3"
    },
    "language_info": {
      "name": "python"
    }
  },
  "cells": [
    {
      "cell_type": "markdown",
      "metadata": {
        "id": "view-in-github",
        "colab_type": "text"
      },
      "source": [
        "<a href=\"https://colab.research.google.com/github/ZahirFelixx/codigos_python/blob/main/FPLZ_ACT1_01_432_CALCULADORA4OP.ipynb\" target=\"_parent\"><img src=\"https://colab.research.google.com/assets/colab-badge.svg\" alt=\"Open In Colab\"/></a>"
      ]
    },
    {
      "cell_type": "code",
      "execution_count": null,
      "metadata": {
        "id": "u1t9cJdN0n_m"
      },
      "outputs": [],
      "source": []
    },
    {
      "cell_type": "markdown",
      "source": [
        "3.- Programa en Python que lea 2 números y realice las 4 operaciones básicas. Ejercicio 3\n"
      ],
      "metadata": {
        "id": "QzOwEj9FC5BB"
      }
    },
    {
      "cell_type": "code",
      "source": [
        "#Felix Peraza Luis Zahir\n",
        "#19-08-2023\n",
        "#Codigo que lee 2 numeros y hace 4 operaciones basicas\n",
        "#Calculadora basica\n",
        "\n",
        "print(\"Ingrese el numero 1: \")\n",
        "num1 = float (input())\n",
        "print(\"Ingrese el numero 2: \")\n",
        "num2 = float (input())\n",
        "\n",
        "suma = num1 + num2\n",
        "resta = num1 - num2\n",
        "multi= num1 * num2\n",
        "divi = num1 / num2\n",
        "\n",
        "print(f\"La suma de los numeros es: \", suma)\n",
        "print(f\"La resta de los numeros es: \", resta)\n",
        "print(f\"La multi de los numeros es: \", multi)\n",
        "print(f\"La divi de los numeros es: \", divi)\n"
      ],
      "metadata": {
        "colab": {
          "base_uri": "https://localhost:8080/"
        },
        "id": "lLKAPRan0tm4",
        "outputId": "775308db-2f21-462e-e238-59bcadd8207c"
      },
      "execution_count": null,
      "outputs": [
        {
          "output_type": "stream",
          "name": "stdout",
          "text": [
            "Ingrese el numero 1: \n",
            "12\n",
            "Ingrese el numero 2: \n",
            "6\n",
            "La suma de los numeros es:  18.0\n",
            "La resta de los numeros es:  6.0\n",
            "La multi de los numeros es:  72.0\n",
            "La divi de los numeros es:  2.0\n"
          ]
        }
      ]
    }
  ]
}