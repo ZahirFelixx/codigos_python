{
  "nbformat": 4,
  "nbformat_minor": 0,
  "metadata": {
    "colab": {
      "provenance": [],
      "authorship_tag": "ABX9TyPMmd+xcglqMvnXxCqnvkfg",
      "include_colab_link": true
    },
    "kernelspec": {
      "name": "python3",
      "display_name": "Python 3"
    },
    "language_info": {
      "name": "python"
    }
  },
  "cells": [
    {
      "cell_type": "markdown",
      "metadata": {
        "id": "view-in-github",
        "colab_type": "text"
      },
      "source": [
        "<a href=\"https://colab.research.google.com/github/ZahirFelixx/codigos_python/blob/main/FPLZ_ACT7_04_432_DUPLICADOS.ipynb\" target=\"_parent\"><img src=\"https://colab.research.google.com/assets/colab-badge.svg\" alt=\"Open In Colab\"/></a>"
      ]
    },
    {
      "cell_type": "code",
      "execution_count": 5,
      "metadata": {
        "colab": {
          "base_uri": "https://localhost:8080/"
        },
        "id": "p91XDvaLRu3u",
        "outputId": "04965296-5feb-452d-ae84-ba8f32c28243"
      },
      "outputs": [
        {
          "output_type": "stream",
          "name": "stdout",
          "text": [
            "Ingrese un numero entero o ingrese 0 para terminar: 67\n",
            "Ingrese un numero entero o ingrese 0 para terminar: 5\n",
            "Ingrese un numero entero o ingrese 0 para terminar: 4\n",
            "Ingrese un numero entero o ingrese 0 para terminar: 4\n",
            "Ingrese un numero entero o ingrese 0 para terminar: 5\n",
            "Ingrese un numero entero o ingrese 0 para terminar: 5\n",
            "Ingrese un numero entero o ingrese 0 para terminar: 0\n",
            "Lista original: [67, 5, 4, 4, 5, 5]\n",
            "Lista sin duplicados: [67, 4, 5]\n"
          ]
        }
      ],
      "source": [
        "#Felix Peraza Luis Zahir 369453\n",
        "#04-10-2023\n",
        "#Escribe una función llamada eliminar_duplicados que reciba una lista como parámetro y elimine los elementos duplicados. El resultado debe ser una nueva lista sin duplicados.\n",
        "#anti_duplicados\n",
        "\n",
        "def eliminar_duplicados(lista):\n",
        "    return list(set(lista))\n",
        "\n",
        "def pedir_numero():\n",
        "    while True:\n",
        "        try:\n",
        "            num = int(input(\"Ingrese un numero entero o ingrese 0 para terminar: \"))\n",
        "            return num\n",
        "        except ValueError:\n",
        "            print(\"Error: Ingrese solo numeros enteros.\")\n",
        "\n",
        "lista = []\n",
        "\n",
        "while True:\n",
        "    numero = pedir_numero()\n",
        "    if numero == 0:\n",
        "        break\n",
        "\n",
        "    lista.append(numero)\n",
        "\n",
        "lista_sin_duplicados = eliminar_duplicados(lista)\n",
        "\n",
        "print(\"Lista original:\", lista)\n",
        "print(\"Lista sin duplicados:\", lista_sin_duplicados)\n"
      ]
    }
  ]
}