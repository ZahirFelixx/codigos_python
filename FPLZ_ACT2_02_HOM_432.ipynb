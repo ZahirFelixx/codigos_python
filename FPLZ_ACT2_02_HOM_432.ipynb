{
  "nbformat": 4,
  "nbformat_minor": 0,
  "metadata": {
    "colab": {
      "provenance": [],
      "authorship_tag": "ABX9TyMP0QIwD17lYKXGz69oT4iu",
      "include_colab_link": true
    },
    "kernelspec": {
      "name": "python3",
      "display_name": "Python 3"
    },
    "language_info": {
      "name": "python"
    }
  },
  "cells": [
    {
      "cell_type": "markdown",
      "metadata": {
        "id": "view-in-github",
        "colab_type": "text"
      },
      "source": [
        "<a href=\"https://colab.research.google.com/github/ZahirFelixx/codigos_python/blob/main/FPLZ_ACT2_02_HOM_432.ipynb\" target=\"_parent\"><img src=\"https://colab.research.google.com/assets/colab-badge.svg\" alt=\"Open In Colab\"/></a>"
      ]
    },
    {
      "cell_type": "markdown",
      "source": [
        "3.- Programa en PythonAlgoritmo que a través de opciones (1.- HOMBRE 2.- MUJER ) preguntar al usuario cual es su sexo y desplegar la leyenda “HOMBRE ”, “MUJER”\n",
        "\n"
      ],
      "metadata": {
        "id": "vI-k_T57Xb75"
      }
    },
    {
      "cell_type": "code",
      "source": [
        "#Felix Peraza Luis Zahir 369453\n",
        "#Fecha: 25-08-2023\n",
        "#Programa que lea si eres hombre o mujer\n",
        "#H_o_M\n",
        "\n",
        "print(\"¿Cual es tu genero?...Ingresar 1 o 2 \")\n",
        "gen = int(input(\"1-.Hombre, 2-.Mujer\"))\n",
        "\n",
        "if gen == 1:\n",
        "    print(f\"Eres Hombre\")\n",
        "\n",
        "if gen == 2:\n",
        "    print(f\"Eres mujer\")\n",
        "\n",
        "\n",
        "\n",
        "\n"
      ],
      "metadata": {
        "colab": {
          "base_uri": "https://localhost:8080/"
        },
        "id": "tyoewg7rZ5cv",
        "outputId": "5273504a-bba7-4bca-d34f-5a052e7993df"
      },
      "execution_count": null,
      "outputs": [
        {
          "output_type": "stream",
          "name": "stdout",
          "text": [
            "¿Cual es tu genero?...Ingresar 1 o 2 \n",
            "1-.Hombre, 2-.Mujer2\n",
            "Eres mujer\n"
          ]
        }
      ]
    }
  ]
}