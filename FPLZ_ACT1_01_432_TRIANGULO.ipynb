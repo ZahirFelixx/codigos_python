{
  "nbformat": 4,
  "nbformat_minor": 0,
  "metadata": {
    "colab": {
      "provenance": [],
      "authorship_tag": "ABX9TyOk+0RtxhAPhc27nI3gdioa",
      "include_colab_link": true
    },
    "kernelspec": {
      "name": "python3",
      "display_name": "Python 3"
    },
    "language_info": {
      "name": "python"
    }
  },
  "cells": [
    {
      "cell_type": "markdown",
      "metadata": {
        "id": "view-in-github",
        "colab_type": "text"
      },
      "source": [
        "<a href=\"https://colab.research.google.com/github/ZahirFelixx/codigos_python/blob/main/FPLZ_ACT1_01_432_TRIANGULO.ipynb\" target=\"_parent\"><img src=\"https://colab.research.google.com/assets/colab-badge.svg\" alt=\"Open In Colab\"/></a>"
      ]
    },
    {
      "cell_type": "markdown",
      "source": [
        "4.- Programa en Python Que sirva para calcular el área de un triángulo. Ejercicio 4\n"
      ],
      "metadata": {
        "id": "zHUUu5I2DU8f"
      }
    },
    {
      "cell_type": "code",
      "execution_count": null,
      "metadata": {
        "colab": {
          "base_uri": "https://localhost:8080/"
        },
        "id": "_6KScZKD2d8T",
        "outputId": "4a978431-2459-49ae-aaaa-3fa3dfd4dfe9"
      },
      "outputs": [
        {
          "output_type": "stream",
          "name": "stdout",
          "text": [
            "Programa para calcular el area de un triangulo: \n",
            "Introduzca el base del triangulo: \n",
            "8\n",
            "Introduzca el altura del triangulo: \n",
            "4\n",
            "El area de su triangulo es:  16.0\n"
          ]
        }
      ],
      "source": [
        "#Felix Peraza Luis Zahir\n",
        "#19-08-2023\n",
        "#Codigo que lee la base y la altura, para calcular el area de un triangulo\n",
        "#triangulo\n",
        "print (\"Programa para calcular el area de un triangulo: \")\n",
        "print (\"Introduzca el base del triangulo: \")\n",
        "base = float(input())\n",
        "print (\"Introduzca el altura del triangulo: \")\n",
        "altura = float(input())\n",
        "area = (base * altura)/2\n",
        "print(f\"El area de su triangulo es: \", area)"
      ]
    },
    {
      "cell_type": "markdown",
      "source": [],
      "metadata": {
        "id": "jwnzF7DaDZ55"
      }
    },
    {
      "cell_type": "markdown",
      "source": [],
      "metadata": {
        "id": "mBj6_tL2DTVp"
      }
    }
  ]
}