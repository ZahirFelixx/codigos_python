{
  "nbformat": 4,
  "nbformat_minor": 0,
  "metadata": {
    "colab": {
      "provenance": [],
      "authorship_tag": "ABX9TyOsI3U6mWbgkCJv3WZSlOFq",
      "include_colab_link": true
    },
    "kernelspec": {
      "name": "python3",
      "display_name": "Python 3"
    },
    "language_info": {
      "name": "python"
    }
  },
  "cells": [
    {
      "cell_type": "markdown",
      "metadata": {
        "id": "view-in-github",
        "colab_type": "text"
      },
      "source": [
        "<a href=\"https://colab.research.google.com/github/ZahirFelixx/codigos_python/blob/main/FPLZ_ACT1_01_432_SUM2NUM.ipynb\" target=\"_parent\"><img src=\"https://colab.research.google.com/assets/colab-badge.svg\" alt=\"Open In Colab\"/></a>"
      ]
    },
    {
      "cell_type": "code",
      "execution_count": null,
      "metadata": {
        "id": "phuMXa2_xgIR"
      },
      "outputs": [],
      "source": []
    },
    {
      "cell_type": "markdown",
      "source": [
        "2.- Programa en Python que lea 2 números, realizar la suma y desplegar la suma de los 2 números. Ejercicio 2\n",
        "\n"
      ],
      "metadata": {
        "id": "mxhZvOiyBHG_"
      }
    },
    {
      "cell_type": "code",
      "source": [
        "#Felix Peraza Luis Zahir 369453\n",
        "#19-08-2023\n",
        "#Ingresar 2 numeros y hacer una suma\n",
        "#calculadora de sumas\n",
        "\n",
        "print(\"Ingrese el numero 1: \")\n",
        "num1 = float (input())\n",
        "print(\"Ingrese el numero 2: \")\n",
        "num2 = float (input())\n",
        "\n",
        "suma = num1 + num2\n",
        "\n",
        "print(f\"La suma de los numeros es: \", suma)\n"
      ],
      "metadata": {
        "colab": {
          "base_uri": "https://localhost:8080/"
        },
        "id": "wCFgOdl3xgt9",
        "outputId": "a66b0ee9-65a9-4e08-8945-490a9898196d"
      },
      "execution_count": null,
      "outputs": [
        {
          "output_type": "stream",
          "name": "stdout",
          "text": [
            "Ingrese el numero 1: \n",
            "23\n",
            "Ingrese el numero 2: \n",
            "44\n",
            "La suma de los numeros es:  67.0\n"
          ]
        }
      ]
    }
  ]
}